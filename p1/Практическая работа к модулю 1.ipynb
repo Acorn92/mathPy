{
  "cells": [
    {
      "cell_type": "markdown",
      "metadata": {
        "id": "6OHEdTw9OyBS"
      },
      "source": [
        "**Видео 2**"
      ]
    },
    {
      "cell_type": "markdown",
      "metadata": {
        "id": "z6Di9BG8PDqS"
      },
      "source": [
        "**Задача 1**\n",
        "\n",
        "Даны векторы $\\vec{a} = \\begin{bmatrix}\n",
        "    1 \\\\ 2 \\\\ 3\n",
        "\\end{bmatrix}$,\n",
        "$\\vec{b} = \\begin{bmatrix}\n",
        "    -5 \\\\ -1 \\\\ 6\n",
        "\\end{bmatrix}$, $\\vec{c} = \\begin{bmatrix}\n",
        "    -1 \\\\ 3 \\\\ 9\n",
        "\\end{bmatrix}$.\n",
        "\n",
        "Найдите результат вычисления: $3\\vec{a} + 2\\vec{b} - 4\\vec{c}$."
      ]
    },
    {
      "cell_type": "code",
      "execution_count": 88,
      "metadata": {},
      "outputs": [
        {
          "data": {
            "text/latex": [
              "$\\displaystyle \\left[\\begin{matrix}-3\\\\-8\\\\-15\\end{matrix}\\right]$"
            ],
            "text/plain": [
              "Matrix([\n",
              "[ -3],\n",
              "[ -8],\n",
              "[-15]])"
            ]
          },
          "execution_count": 88,
          "metadata": {},
          "output_type": "execute_result"
        }
      ],
      "source": [
        "import sympy as sp\n",
        "\n",
        "a = sp.Matrix([[1], [2], [3]])\n",
        "b = sp.Matrix([[-5], [-1], [6]])\n",
        "c = sp.Matrix([[-1], [3], [9]])\n",
        "\n",
        "\n",
        "3*a + 2*b - 4*c"
      ]
    },
    {
      "cell_type": "markdown",
      "metadata": {
        "id": "vM81O4_UOwQ4"
      },
      "source": [
        "**Задача 2**\n",
        "\n",
        "Даны точки $\\mathbf{A}(3,-2)$ и $\\mathbf{B}(1,4)$. Точка $\\mathbf{M}$ лежит на прямой $\\mathbf{AB}$ так, что\n",
        "$|\\mathbf{AM}| = 3|\\mathbf{AB}|$. Найдите координаты точки $ \\mathbf{M}$, если точки $ \\mathbf{M}$ и $ \\mathbf{B}$ лежат по одну сторону от A."
      ]
    },
    {
      "cell_type": "markdown",
      "metadata": {},
      "source": [
        "Решение\n",
        "\n",
        "Найдём вектор $\\mathbf{AB}$: \n",
        "\n",
        "B - A = (1 - 3), (4 + 2) = (-2, 6)\n",
        "\n",
        "Предположу, что из условия $|\\mathbf{AM}| = 3|\\mathbf{AB}|$ можно найти вектор $\\mathbf{AM}$ следующим образом:\n",
        "\n",
        "AM = 3 * AB = 3 * (-2, 6) = (-6, 18)\n",
        "\n",
        "Далее найдём координаты точки $\\mathbf{M}$:\n",
        "\n",
        "AM = M - A = (x - 3), (y + 2) => x-3 = -6; y + 2 = 18 => x = -3; y = 16\n",
        "\n",
        "Координаты точки $\\mathbf{M}$ равны $\\bf(-3, 16)$\n",
        "\n",
        "\n"
      ]
    },
    {
      "cell_type": "code",
      "execution_count": 89,
      "metadata": {},
      "outputs": [
        {
          "data": {
            "text/latex": [
              "$\\displaystyle 120$"
            ],
            "text/plain": [
              "120"
            ]
          },
          "execution_count": 89,
          "metadata": {},
          "output_type": "execute_result"
        }
      ],
      "source": [
        "#Посчитаем скалярное произведение векторов AB и AM, чтобы убедиться, что точка М лежит по одну сторону с B\n",
        "\n",
        "b = sp.Matrix([[-2], [6]])\n",
        "m = sp.Matrix([[-6], [18]])\n",
        "\n",
        "sp.Matrix.dot(b, m)\n",
        "\n",
        "#скалярное произведение положительно, значит точки B и M лежат по одну сторону от А"
      ]
    },
    {
      "cell_type": "markdown",
      "metadata": {
        "id": "OWZJlZtLSlw7"
      },
      "source": [
        "**Видео 4**"
      ]
    },
    {
      "cell_type": "markdown",
      "metadata": {
        "id": "Livp6DYBSpyw"
      },
      "source": [
        "**Задача 1**\n",
        "\n",
        "Найдите векторное произведение двух векторов:\n",
        "    \\begin{align*}\n",
        "        \\vec{a} = \\begin{bmatrix}-5\\\\3\\\\8\\end{bmatrix},\\ \\vec{b} = \\begin{bmatrix}2\\\\5\\\\1\\end{bmatrix} \\\\\n",
        "         \\end{align*}"
      ]
    },
    {
      "cell_type": "code",
      "execution_count": 90,
      "metadata": {},
      "outputs": [
        {
          "data": {
            "text/latex": [
              "$\\displaystyle \\left[\\begin{matrix}-37\\\\21\\\\-31\\end{matrix}\\right]$"
            ],
            "text/plain": [
              "Matrix([\n",
              "[-37],\n",
              "[ 21],\n",
              "[-31]])"
            ]
          },
          "execution_count": 90,
          "metadata": {},
          "output_type": "execute_result"
        }
      ],
      "source": [
        "\n",
        "a = sp.Matrix([[-5], [3], [8]])\n",
        "b = sp.Matrix([[2], [5], [1]])\n",
        "\n",
        "sp.Matrix.cross(a, b)"
      ]
    },
    {
      "cell_type": "markdown",
      "metadata": {
        "id": "oZyT9AiDVrYm"
      },
      "source": [
        "**Задача 2**\n",
        "\n",
        "Упростите выражение:\n",
        "    \\begin{align*}\n",
        "        (\\vec{a} + \\vec{b} ) \\times (\\vec{a} - \\vec{b})\n",
        "    \\end{align*}\n",
        "\n"
      ]
    },
    {
      "cell_type": "code",
      "execution_count": 91,
      "metadata": {},
      "outputs": [
        {
          "data": {
            "text/latex": [
              "$\\displaystyle \\left[\\begin{matrix}- \\left({a}_{1,0} - {b}_{1,0}\\right) \\left({a}_{2,0} + {b}_{2,0}\\right) + \\left({a}_{1,0} + {b}_{1,0}\\right) \\left({a}_{2,0} - {b}_{2,0}\\right)\\\\\\left({a}_{0,0} - {b}_{0,0}\\right) \\left({a}_{2,0} + {b}_{2,0}\\right) - \\left({a}_{0,0} + {b}_{0,0}\\right) \\left({a}_{2,0} - {b}_{2,0}\\right)\\\\- \\left({a}_{0,0} - {b}_{0,0}\\right) \\left({a}_{1,0} + {b}_{1,0}\\right) + \\left({a}_{0,0} + {b}_{0,0}\\right) \\left({a}_{1,0} - {b}_{1,0}\\right)\\end{matrix}\\right]$"
            ],
            "text/plain": [
              "Matrix([\n",
              "[-(a[1, 0] - b[1, 0])*(a[2, 0] + b[2, 0]) + (a[1, 0] + b[1, 0])*(a[2, 0] - b[2, 0])],\n",
              "[ (a[0, 0] - b[0, 0])*(a[2, 0] + b[2, 0]) - (a[0, 0] + b[0, 0])*(a[2, 0] - b[2, 0])],\n",
              "[-(a[0, 0] - b[0, 0])*(a[1, 0] + b[1, 0]) + (a[0, 0] + b[0, 0])*(a[1, 0] - b[1, 0])]])"
            ]
          },
          "execution_count": 91,
          "metadata": {},
          "output_type": "execute_result"
        }
      ],
      "source": [
        "from sympy import MatrixSymbol, Matrix\n",
        "\n",
        "a = MatrixSymbol('a', 3, 1)\n",
        "b = MatrixSymbol('b', 3, 1)\n",
        "\n",
        "vl = (a + b)\n",
        "vp = (a - b)\n",
        "\n",
        "\n",
        "r1 = sp.Matrix.cross(Matrix(vl), Matrix(vp))\n",
        "r1\n"
      ]
    },
    {
      "cell_type": "code",
      "execution_count": null,
      "metadata": {},
      "outputs": [
        {
          "data": {
            "text/latex": [
              "$\\displaystyle \\left[\\begin{matrix}- 2 {a}_{1,0} {b}_{2,0} + 2 {a}_{2,0} {b}_{1,0}\\\\2 {a}_{0,0} {b}_{2,0} - 2 {a}_{2,0} {b}_{0,0}\\\\- 2 {a}_{0,0} {b}_{1,0} + 2 {a}_{1,0} {b}_{0,0}\\end{matrix}\\right]$"
            ],
            "text/plain": [
              "Matrix([\n",
              "[-2*a[1, 0]*b[2, 0] + 2*a[2, 0]*b[1, 0]],\n",
              "[ 2*a[0, 0]*b[2, 0] - 2*a[2, 0]*b[0, 0]],\n",
              "[-2*a[0, 0]*b[1, 0] + 2*a[1, 0]*b[0, 0]]])"
            ]
          },
          "execution_count": 117,
          "metadata": {},
          "output_type": "execute_result"
        }
      ],
      "source": [
        "r2 = sp.simplify(r1)\n",
        "r2\n"
      ]
    },
    {
      "cell_type": "markdown",
      "metadata": {
        "id": "K7bPVLv5Wu-Q"
      },
      "source": [
        "**Задача 3**\n",
        "\n",
        "Все три вектора $\\vec{a}, \\vec{b},\\vec{c}$ имеют длину $3$, и $\\vec{a} + \\vec{b} + \\vec{c} = \\vec{0}$.\n",
        "\n",
        "Найдите результат вычисления: $\\vec{a} \\cdot \\vec{b} + \\vec{b} \\cdot \\vec{c} + \\vec{c} \\cdot \\vec{a}$.\n",
        "\n",
        "*Подсказка: необходимо нарисовать этот случай (треугольник)*."
      ]
    },
    {
      "cell_type": "markdown",
      "metadata": {},
      "source": [
        "Т.к. длина 3х векторов одинакова и равна 3, следовательно треугольник равносторонний, а у равностороннего треугольника углы равны 120 градусов.\n",
        "cos 120 градусов равен -1/2.\n",
        "\n",
        "Разложим искомую формулу:\n",
        "$\\vec{a} \\cdot \\vec{b} + \\vec{b} \\cdot \\vec{c} + \\vec{c} \\cdot \\vec{a}$ = |a| * |b| * (-1/2) + |b| * |c| * (-1/2) + |c| * |a| * (-1/2) =\n",
        "-1/2 * 27 = $\\bf-27/2$\n"
      ]
    },
    {
      "cell_type": "markdown",
      "metadata": {
        "id": "O7z91_joZd1x"
      },
      "source": [
        "**Видео 6**"
      ]
    },
    {
      "cell_type": "markdown",
      "metadata": {
        "id": "K8eqoj7lZgfR"
      },
      "source": [
        "**Задача 1**\n",
        "\n",
        "Даны $A=\\begin{bmatrix} 2 & -1 & -1\\end{bmatrix}$ и $B=\\begin{bmatrix} -2 \\\\ -1 \\\\ 3 \\end{bmatrix}$. \\\\\n",
        "    1. Найдите $AB$ и $BA$, если они существуют. \\\\\n",
        "    2. Найдите $A^TB$ и $BA^T$, если они существуют."
      ]
    },
    {
      "cell_type": "code",
      "execution_count": 118,
      "metadata": {},
      "outputs": [
        {
          "data": {
            "text/latex": [
              "$\\displaystyle \\left[\\begin{matrix}-6\\end{matrix}\\right]$"
            ],
            "text/plain": [
              "Matrix([[-6]])"
            ]
          },
          "execution_count": 118,
          "metadata": {},
          "output_type": "execute_result"
        }
      ],
      "source": [
        "\n",
        "a = sp.Matrix([2, -1, -1]).T #матрица в sympy представлены в столбик по умолчанию (3х1)\n",
        "b = sp.Matrix([[-2], [-1], [3]])\n",
        "\n",
        "a*b #1x3 * 3x1 = 3x3"
      ]
    },
    {
      "cell_type": "code",
      "execution_count": 119,
      "metadata": {},
      "outputs": [
        {
          "data": {
            "text/latex": [
              "$\\displaystyle \\left[\\begin{matrix}-4 & 2 & 2\\\\-2 & 1 & 1\\\\6 & -3 & -3\\end{matrix}\\right]$"
            ],
            "text/plain": [
              "Matrix([\n",
              "[-4,  2,  2],\n",
              "[-2,  1,  1],\n",
              "[ 6, -3, -3]])"
            ]
          },
          "execution_count": 119,
          "metadata": {},
          "output_type": "execute_result"
        }
      ],
      "source": [
        "b*a #3x1 * 1x3= 1x1"
      ]
    },
    {
      "cell_type": "code",
      "execution_count": 120,
      "metadata": {},
      "outputs": [],
      "source": [
        "#a.transpose() * b   решения не будет, т.к 3x1 * 3*1 размерности не корректные#\n",
        "# b * a.transpose() решения не будет по аналогичной причине\n"
      ]
    },
    {
      "cell_type": "markdown",
      "metadata": {
        "id": "o0sRsg7DcnWl"
      },
      "source": [
        "**Задача 2**\n",
        "\n",
        "Дана матрица $A = \\begin{bmatrix} 1 & 4 \\\\ 9 & 1\\end{bmatrix}$.\n",
        "\n",
        "Найдите $l$, если определитель $A - El$ равен $0$, где $E$ — единичная матрица."
      ]
    },
    {
      "cell_type": "markdown",
      "metadata": {},
      "source": [
        "$El = \\begin{bmatrix} l & 0 \\\\ 0 & l\\end{bmatrix}$."
      ]
    },
    {
      "cell_type": "code",
      "execution_count": 121,
      "metadata": {},
      "outputs": [
        {
          "data": {
            "text/plain": [
              "[-5, 7]"
            ]
          },
          "execution_count": 121,
          "metadata": {},
          "output_type": "execute_result"
        }
      ],
      "source": [
        "from sympy import Eq, solve\n",
        "l = sp.Symbol('l')\n",
        "\n",
        "#напишем матрицу, определитель которой равен 0\n",
        "a = sp.Matrix([[1 - l, 9], [4, 1 - l]])\n",
        "#далее получим уравнение через формулу нахождения определителя\n",
        "eq = sp.det(a)\n",
        "#и решив его получим результат\n",
        "s = solve(eq, l)\n",
        "\n",
        "s"
      ]
    },
    {
      "cell_type": "markdown",
      "metadata": {
        "id": "0AQGm3v5eQwr"
      },
      "source": [
        "**Видео 7**"
      ]
    },
    {
      "cell_type": "markdown",
      "metadata": {
        "id": "F0QA2ARJeS_Z"
      },
      "source": [
        "**Задача 1**\n",
        "\n",
        "Вычислите ранг матрицы $\\begin{bmatrix}1&2\\\\2&4\\\\1&1\\end{bmatrix}$ с помощью функции $rank()$ и c помощью $rref()$."
      ]
    },
    {
      "cell_type": "code",
      "execution_count": 122,
      "metadata": {},
      "outputs": [
        {
          "data": {
            "text/plain": [
              "2"
            ]
          },
          "execution_count": 122,
          "metadata": {},
          "output_type": "execute_result"
        }
      ],
      "source": [
        "a = sp.Matrix([[1, 2], [2, 4], [1, 1]])\n",
        "\n",
        "sp.Matrix.rank(a)"
      ]
    },
    {
      "cell_type": "code",
      "execution_count": 123,
      "metadata": {},
      "outputs": [
        {
          "data": {
            "text/latex": [
              "$\\displaystyle \\left[\\begin{matrix}1 & 0\\\\0 & 1\\\\0 & 0\\end{matrix}\\right]$"
            ],
            "text/plain": [
              "Matrix([\n",
              "[1, 0],\n",
              "[0, 1],\n",
              "[0, 0]])"
            ]
          },
          "execution_count": 123,
          "metadata": {},
          "output_type": "execute_result"
        }
      ],
      "source": [
        "sp.Matrix.rref(a)[0]"
      ]
    },
    {
      "cell_type": "markdown",
      "metadata": {
        "id": "oMGa7GfcfGZ5"
      },
      "source": [
        "**Видео 8**"
      ]
    },
    {
      "cell_type": "markdown",
      "metadata": {
        "id": "4h1m1wRVfJui"
      },
      "source": [
        "**Задача 1**\n",
        "\n",
        "Решите уравнения:\n",
        "\n",
        "1) $\\begin{bmatrix}2&5\\\\1&3\\end{bmatrix}X=\\begin{bmatrix}2&1\\\\1&1\\end{bmatrix}$; \\\\\n",
        "2)  $X\\begin{bmatrix}2&5\\\\1&3\\end{bmatrix}=\\begin{bmatrix}2&1\\\\1&1\\end{bmatrix}$;"
      ]
    },
    {
      "cell_type": "code",
      "execution_count": 124,
      "metadata": {},
      "outputs": [
        {
          "data": {
            "text/latex": [
              "$\\displaystyle \\left[\\begin{matrix}1 & -2\\\\0 & 1\\end{matrix}\\right]$"
            ],
            "text/plain": [
              "Matrix([\n",
              "[1, -2],\n",
              "[0,  1]])"
            ]
          },
          "execution_count": 124,
          "metadata": {},
          "output_type": "execute_result"
        }
      ],
      "source": [
        "m1 = sp.Matrix([[2, 5], [1, 3]])\n",
        "rez = sp.Matrix([[2, 1], [1, 1]])\n",
        "\n",
        "\n",
        "\n",
        "#чтобы найти матрицу X нужно умножить результат уравнения на обратную матрицу от первого множителя(для каждого уравнения важен порядок умножения матриц)\n",
        "m1I = m1.inv()\n",
        "#Для уравнения №1:\n",
        "x = m1I * rez\n",
        "x\n"
      ]
    },
    {
      "cell_type": "code",
      "execution_count": 125,
      "metadata": {},
      "outputs": [
        {
          "data": {
            "text/latex": [
              "$\\displaystyle \\left[\\begin{matrix}2 & 1\\\\1 & 1\\end{matrix}\\right]$"
            ],
            "text/plain": [
              "Matrix([\n",
              "[2, 1],\n",
              "[1, 1]])"
            ]
          },
          "execution_count": 125,
          "metadata": {},
          "output_type": "execute_result"
        }
      ],
      "source": [
        "#проверка\n",
        "m1 * x "
      ]
    },
    {
      "cell_type": "code",
      "execution_count": 126,
      "metadata": {},
      "outputs": [
        {
          "data": {
            "text/latex": [
              "$\\displaystyle \\left[\\begin{matrix}5 & -8\\\\2 & -3\\end{matrix}\\right]$"
            ],
            "text/plain": [
              "Matrix([\n",
              "[5, -8],\n",
              "[2, -3]])"
            ]
          },
          "execution_count": 126,
          "metadata": {},
          "output_type": "execute_result"
        }
      ],
      "source": [
        "#Для уравнения №2\n",
        "x = rez*m1I\n",
        "x"
      ]
    },
    {
      "cell_type": "code",
      "execution_count": 127,
      "metadata": {},
      "outputs": [
        {
          "data": {
            "text/latex": [
              "$\\displaystyle \\left[\\begin{matrix}2 & 1\\\\1 & 1\\end{matrix}\\right]$"
            ],
            "text/plain": [
              "Matrix([\n",
              "[2, 1],\n",
              "[1, 1]])"
            ]
          },
          "execution_count": 127,
          "metadata": {},
          "output_type": "execute_result"
        }
      ],
      "source": [
        "#Проверка\n",
        "x*m1"
      ]
    },
    {
      "cell_type": "markdown",
      "metadata": {
        "id": "K1oVG0UKgkH5"
      },
      "source": [
        "**Задача 2**\n",
        "\n",
        "Найдите значения $AA^+$, $AA^+A$ и $A^+A$, если $A=\\begin{bmatrix}3 \\\\ 7 \\\\ 2\\end{bmatrix}$."
      ]
    },
    {
      "cell_type": "code",
      "execution_count": 128,
      "metadata": {},
      "outputs": [
        {
          "data": {
            "text/latex": [
              "$\\displaystyle \\left[\\begin{matrix}\\frac{3}{62} & \\frac{7}{62} & \\frac{1}{31}\\end{matrix}\\right]$"
            ],
            "text/plain": [
              "Matrix([[3/62, 7/62, 1/31]])"
            ]
          },
          "execution_count": 128,
          "metadata": {},
          "output_type": "execute_result"
        }
      ],
      "source": [
        "a = sp.Matrix([3,7,2])\n",
        "aPI = a.pinv()\n",
        "\n",
        "aPI"
      ]
    },
    {
      "cell_type": "code",
      "execution_count": 129,
      "metadata": {},
      "outputs": [
        {
          "data": {
            "text/latex": [
              "$\\displaystyle \\left[\\begin{matrix}\\frac{9}{62} & \\frac{21}{62} & \\frac{3}{31}\\\\\\frac{21}{62} & \\frac{49}{62} & \\frac{7}{31}\\\\\\frac{3}{31} & \\frac{7}{31} & \\frac{2}{31}\\end{matrix}\\right]$"
            ],
            "text/plain": [
              "Matrix([\n",
              "[ 9/62, 21/62, 3/31],\n",
              "[21/62, 49/62, 7/31],\n",
              "[ 3/31,  7/31, 2/31]])"
            ]
          },
          "execution_count": 129,
          "metadata": {},
          "output_type": "execute_result"
        }
      ],
      "source": [
        "a*aPI"
      ]
    },
    {
      "cell_type": "code",
      "execution_count": 130,
      "metadata": {},
      "outputs": [
        {
          "data": {
            "text/latex": [
              "$\\displaystyle \\left[\\begin{matrix}3\\\\7\\\\2\\end{matrix}\\right]$"
            ],
            "text/plain": [
              "Matrix([\n",
              "[3],\n",
              "[7],\n",
              "[2]])"
            ]
          },
          "execution_count": 130,
          "metadata": {},
          "output_type": "execute_result"
        }
      ],
      "source": [
        "a*aPI*a"
      ]
    },
    {
      "cell_type": "code",
      "execution_count": 131,
      "metadata": {},
      "outputs": [
        {
          "data": {
            "text/latex": [
              "$\\displaystyle \\left[\\begin{matrix}1\\end{matrix}\\right]$"
            ],
            "text/plain": [
              "Matrix([[1]])"
            ]
          },
          "execution_count": 131,
          "metadata": {},
          "output_type": "execute_result"
        }
      ],
      "source": [
        "aPI*a"
      ]
    },
    {
      "cell_type": "markdown",
      "metadata": {
        "id": "UFekP9kYi79L"
      },
      "source": [
        "**Видео 9**"
      ]
    },
    {
      "cell_type": "markdown",
      "metadata": {
        "id": "A0fDN564i-QB"
      },
      "source": [
        "**Задача 1**\n",
        "\n",
        "Решите уравнения:\n",
        "\n",
        "1) $x^2 + 2x + 4 =0$ \\\\\n",
        "2) $\\bar{x} = 2 + 2x$"
      ]
    },
    {
      "cell_type": "code",
      "execution_count": 132,
      "metadata": {},
      "outputs": [
        {
          "data": {
            "text/plain": [
              "[-1 - sqrt(3)*I, -1 + sqrt(3)*I]"
            ]
          },
          "execution_count": 132,
          "metadata": {},
          "output_type": "execute_result"
        }
      ],
      "source": [
        "#уравнение №1\n",
        "x = sp.Symbol('x')\n",
        "\n",
        "eq = x**2 + 2*x + 4\n",
        "\n",
        "solve(eq, x)"
      ]
    },
    {
      "cell_type": "code",
      "execution_count": 133,
      "metadata": {},
      "outputs": [
        {
          "data": {
            "text/plain": [
              "[-2]"
            ]
          },
          "execution_count": 133,
          "metadata": {},
          "output_type": "execute_result"
        }
      ],
      "source": [
        "#уравнение №2\n",
        "eq = sp.conjugate(x) - 2 - 2*x\n",
        "\n",
        "solve(eq, x)"
      ]
    }
  ],
  "metadata": {
    "colab": {
      "provenance": []
    },
    "kernelspec": {
      "display_name": "Python 3",
      "name": "python3"
    },
    "language_info": {
      "codemirror_mode": {
        "name": "ipython",
        "version": 3
      },
      "file_extension": ".py",
      "mimetype": "text/x-python",
      "name": "python",
      "nbconvert_exporter": "python",
      "pygments_lexer": "ipython3",
      "version": "3.8.10"
    }
  },
  "nbformat": 4,
  "nbformat_minor": 0
}
